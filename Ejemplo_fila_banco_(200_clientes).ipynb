{
  "nbformat": 4,
  "nbformat_minor": 0,
  "metadata": {
    "colab": {
      "provenance": [],
      "include_colab_link": true
    },
    "kernelspec": {
      "name": "python3",
      "display_name": "Python 3"
    },
    "language_info": {
      "name": "python"
    }
  },
  "cells": [
    {
      "cell_type": "markdown",
      "metadata": {
        "id": "view-in-github",
        "colab_type": "text"
      },
      "source": [
        "<a href=\"https://colab.research.google.com/github/Elkin-Amortegui/SILUMACION2023-2/blob/main/Ejemplo_fila_banco_(200_clientes).ipynb\" target=\"_parent\"><img src=\"https://colab.research.google.com/assets/colab-badge.svg\" alt=\"Open In Colab\"/></a>"
      ]
    },
    {
      "cell_type": "markdown",
      "metadata": {
        "id": "2UCFnlVTpIEJ"
      },
      "source": [
        "# Confidence intervals"
      ]
    },
    {
      "cell_type": "code",
      "metadata": {
        "id": "R-NCLZBhprux"
      },
      "source": [
        "import numpy as np\n",
        "from scipy import stats\n",
        "from IPython.display import display, Markdown\n",
        "import numpy as np\n",
        "from scipy import stats\n",
        "from IPython.display import display, Markdown"
      ],
      "execution_count": 1,
      "outputs": []
    },
    {
      "cell_type": "code",
      "source": [
        "M = [4.42, 4.16, 5.06, 4.325, 5.395, 5.565, 4.775, 4.935]\n",
        "M1 = [0.363879003558719, 0.41958041958042, 0.343636363636364, 0.389232127096205, 0.320916905444126, 0.284607938044531, 0.378623188405797, 0.391833188531712]\n",
        "M2 = [0.845, 0.84, 1.45, 0.865, 1.84, 1.87, 1.345, 1.435]\n",
        "M3 = [0.345, 0.26, 0.415, 0.32, 0.47, 0.5, 0.365, 0.335]\n",
        "M4 = [2.44927536231884, 3.23076923076923, 3.49397590361446, 2.703125, 3.91489361702128, 3.74, 3.68493150684932, 4.28358208955224]\n",
        "\n",
        "reps = len(M)\n",
        "\n",
        "print(\"Rep.\\tAverage time in system:\\t\\tPercent idle time:\\tAverage waiting time per customer:\\tFraction having to wait:\\tAverage waiting time of those who waited:\")\n",
        "for i in range(0, len(M)):\n",
        "    print(\"{}\\t{:.5f}\\t\\t\\t\\t{:.5f}\\t\\t\\t{:.5f}\\t\\t\\t\\t\\t{:.5f}\\t\\t\\t\\t{:.5f}\".format(i+1, M[i], M1[i], M2[i], M3[i], M4[i]))\n"
      ],
      "metadata": {
        "colab": {
          "base_uri": "https://localhost:8080/"
        },
        "id": "7Av268BhRJC-",
        "outputId": "e084376d-ab53-44a9-9b57-ed7fd8016889"
      },
      "execution_count": 2,
      "outputs": [
        {
          "output_type": "stream",
          "name": "stdout",
          "text": [
            "Rep.\tAverage time in system:\t\tPercent idle time:\tAverage waiting time per customer:\tFraction having to wait:\tAverage waiting time of those who waited:\n",
            "1\t4.42000\t\t\t\t0.36388\t\t\t0.84500\t\t\t\t\t0.34500\t\t\t\t2.44928\n",
            "2\t4.16000\t\t\t\t0.41958\t\t\t0.84000\t\t\t\t\t0.26000\t\t\t\t3.23077\n",
            "3\t5.06000\t\t\t\t0.34364\t\t\t1.45000\t\t\t\t\t0.41500\t\t\t\t3.49398\n",
            "4\t4.32500\t\t\t\t0.38923\t\t\t0.86500\t\t\t\t\t0.32000\t\t\t\t2.70312\n",
            "5\t5.39500\t\t\t\t0.32092\t\t\t1.84000\t\t\t\t\t0.47000\t\t\t\t3.91489\n",
            "6\t5.56500\t\t\t\t0.28461\t\t\t1.87000\t\t\t\t\t0.50000\t\t\t\t3.74000\n",
            "7\t4.77500\t\t\t\t0.37862\t\t\t1.34500\t\t\t\t\t0.36500\t\t\t\t3.68493\n",
            "8\t4.93500\t\t\t\t0.39183\t\t\t1.43500\t\t\t\t\t0.33500\t\t\t\t4.28358\n"
          ]
        }
      ]
    },
    {
      "cell_type": "code",
      "source": [
        "def calculos(lista):\n",
        "    reps = len(lista)\n",
        "    alpha = 0.05\n",
        "    confidence = (1 - alpha) * 100\n",
        "    mean = np.mean(lista)\n",
        "    var = np.var(lista, ddof=1)\n",
        "    desv = np.sqrt(var)\n",
        "    tval = stats.t.ppf(1 - (alpha / 2), reps - 1)\n",
        "    hval = tval * (desv / np.sqrt(reps))\n",
        "    respuesta = [reps, alpha, confidence, mean, desv, tval, hval, mean - hval, mean + hval]\n",
        "    return respuesta\n",
        "\n",
        "# Crear una tabla en formato Markdown\n",
        "resultado_M = calculos(M)\n",
        "resultado_M1 = calculos(M1)\n",
        "resultado_M2 = calculos(M2)\n",
        "resultado_M3 = calculos(M3)\n",
        "resultado_M4 = calculos(M4)\n",
        "\n",
        "# Redefinir la tabla con el formato deseado\n",
        "tabla_markdown = f\"\"\"\n",
        "| Nivel de confianza = {resultado_M[2]:.5f}%|Average time in system:|Percent idle time:|Average waiting time per customer:|Fraction having to wait:|Average waiting time of those who waited:|\n",
        "|-------------------------|------------------------------|-------------------------------|-------------------------------|-------------------------------|-------------------------------|\n",
        "| Media ($\\\\bar{{X}}$)|{resultado_M[3]:.5f}|{resultado_M1[3]:.5f}|{resultado_M2[3]:.5f}|{resultado_M3[3]:.5f}|{resultado_M4[3]:.5f}|\n",
        "| Desviación estándar (S)|{resultado_M[4]:.5f}|{resultado_M1[4]:.5f}|{resultado_M2[4]:.5f}|{resultado_M3[4]:.5f}|{resultado_M4[4]:.5f}|\n",
        "| Valor crítico ($t_{{n-1,1-\\\\frac{{\\\\alpha}}{2}}}$)|$t_{{{resultado_M[0]-1},{1-resultado_M[1]/2}}} ={resultado_M[5]:.5f}$|$t_{{{resultado_M1[0]-1},{1-resultado_M1[1]/2}}}={resultado_M1[5]:.5f}$|$t_{{{resultado_M2[0]-1},{1-resultado_M2[1]/2}}}={resultado_M2[5]:.5f}$|$t_{{{resultado_M3[0]-1},{1-resultado_M3[1]/2}}}={resultado_M3[5]:.5f}$|$t_{{{resultado_M4[0]-1},{1-resultado_M4[1]/2}}}={resultado_M4[5]:.5f}$|\n",
        "| $h$|{resultado_M[6]:.5f}|{resultado_M1[6]:.5f}|{resultado_M2[6]:.5f}|{resultado_M3[6]:.5f}|{resultado_M4[6]:.5f}|\n",
        "| Intervalo de confianza =  ($\\\\bar{{X}}-h , \\\\bar{{X}} + h$) |({resultado_M[7]:.5f}, {resultado_M[8]:.5f})|({resultado_M1[7]:.5f}, {resultado_M1[8]:.5f})|({resultado_M2[7]:.5f}, {resultado_M2[8]:.5f})|({resultado_M3[7]:.5f}, {resultado_M3[8]:.5f})|({resultado_M4[7]:.5f}, {resultado_M4[8]:.5f})|\n",
        "\"\"\"\n",
        "\n",
        "# Mostrar la tabla Markdown en el cuaderno\n",
        "display(Markdown(tabla_markdown))"
      ],
      "metadata": {
        "colab": {
          "base_uri": "https://localhost:8080/",
          "height": 279
        },
        "id": "OzwpO9JsR3t_",
        "outputId": "e78dd764-9d52-4083-81b1-3ba812d27a35"
      },
      "execution_count": 3,
      "outputs": [
        {
          "output_type": "display_data",
          "data": {
            "text/plain": [
              "<IPython.core.display.Markdown object>"
            ],
            "text/markdown": "\n| Nivel de confianza = 95.00000%|Average time in system:|Percent idle time:|Average waiting time per customer:|Fraction having to wait:|Average waiting time of those who waited:|\n|-------------------------|------------------------------|-------------------------------|-------------------------------|-------------------------------|-------------------------------|\n| Media ($\\bar{X}$)|4.82938|0.36154|1.31125|0.37625|3.43757|\n| Desviación estándar (S)|0.50687|0.04349|0.42529|0.08026|0.61625|\n| Valor crítico ($t_{n-1,1-\\frac{\\alpha}2}$)|$t_{7,0.975} =2.36462$|$t_{7,0.975}=2.36462$|$t_{7,0.975}=2.36462$|$t_{7,0.975}=2.36462$|$t_{7,0.975}=2.36462$|\n| $h$|0.42375|0.03636|0.35555|0.06710|0.51519|\n| Intervalo de confianza =  ($\\bar{X}-h , \\bar{X} + h$) |(4.40562, 5.25313)|(0.32518, 0.39790)|(0.95570, 1.66680)|(0.30915, 0.44335)|(2.92237, 3.95276)|\n"
          },
          "metadata": {}
        }
      ]
    },
    {
      "cell_type": "code",
      "source": [
        "def calculos(lista):\n",
        "    reps = len(lista)\n",
        "    alpha = 0.01\n",
        "    confidence = (1 - alpha) * 100\n",
        "    mean = np.mean(lista)\n",
        "    var = np.var(lista, ddof=1)\n",
        "    desv = np.sqrt(var)\n",
        "    tval = stats.t.ppf(1 - (alpha / 2), reps - 1)\n",
        "    hval = tval * (desv / np.sqrt(reps))\n",
        "    respuesta = [reps, alpha, confidence, mean, desv, tval, hval, mean - hval, mean + hval]\n",
        "    return respuesta\n",
        "\n",
        "# Crear una tabla en formato Markdown\n",
        "resultado_M = calculos(M)\n",
        "resultado_M1 = calculos(M1)\n",
        "resultado_M2 = calculos(M2)\n",
        "resultado_M3 = calculos(M3)\n",
        "resultado_M4 = calculos(M4)\n",
        "\n",
        "# Redefinir la tabla con el formato deseado\n",
        "tabla_markdown = f\"\"\"\n",
        "| Nivel de confianza = {resultado_M[2]:.5f}%|Average time in system:|Percent idle time:|Average waiting time per customer:|Fraction having to wait:|Average waiting time of those who waited:|\n",
        "|-------------------------|------------------------------|-------------------------------|-------------------------------|-------------------------------|-------------------------------|\n",
        "| Media ($\\\\bar{{X}}$)|{resultado_M[3]:.5f}|{resultado_M1[3]:.5f}|{resultado_M2[3]:.5f}|{resultado_M3[3]:.5f}|{resultado_M4[3]:.5f}|\n",
        "| Desviación estándar (S)|{resultado_M[4]:.5f}|{resultado_M1[4]:.5f}|{resultado_M2[4]:.5f}|{resultado_M3[4]:.5f}|{resultado_M4[4]:.5f}|\n",
        "| Valor crítico ($t_{{n-1,1-\\\\frac{{\\\\alpha}}{2}}}$)|$t_{{{resultado_M[0]-1},{1-resultado_M[1]/2}}} ={resultado_M[5]:.5f}$|$t_{{{resultado_M1[0]-1},{1-resultado_M1[1]/2}}}={resultado_M1[5]:.5f}$|$t_{{{resultado_M2[0]-1},{1-resultado_M2[1]/2}}}={resultado_M2[5]:.5f}$|$t_{{{resultado_M3[0]-1},{1-resultado_M3[1]/2}}}={resultado_M3[5]:.5f}$|$t_{{{resultado_M4[0]-1},{1-resultado_M4[1]/2}}}={resultado_M4[5]:.5f}$|\n",
        "| $h$|{resultado_M[6]:.5f}|{resultado_M1[6]:.5f}|{resultado_M2[6]:.5f}|{resultado_M3[6]:.5f}|{resultado_M4[6]:.5f}|\n",
        "| Intervalo de confianza =  ($\\\\bar{{X}}-h , \\\\bar{{X}} + h$) |({resultado_M[7]:.5f}, {resultado_M[8]:.5f})|({resultado_M1[7]:.5f}, {resultado_M1[8]:.5f})|({resultado_M2[7]:.5f}, {resultado_M2[8]:.5f})|({resultado_M3[7]:.5f}, {resultado_M3[8]:.5f})|({resultado_M4[7]:.5f}, {resultado_M4[8]:.5f})|\n",
        "\"\"\"\n",
        "\n",
        "# Mostrar la tabla Markdown en el cuaderno\n",
        "display(Markdown(tabla_markdown))"
      ],
      "metadata": {
        "colab": {
          "base_uri": "https://localhost:8080/",
          "height": 279
        },
        "id": "XVlxRTruSiaw",
        "outputId": "0c5e7d31-c627-4be3-c599-f5bf634a737e"
      },
      "execution_count": 4,
      "outputs": [
        {
          "output_type": "display_data",
          "data": {
            "text/plain": [
              "<IPython.core.display.Markdown object>"
            ],
            "text/markdown": "\n| Nivel de confianza = 99.00000%|Average time in system:|Percent idle time:|Average waiting time per customer:|Fraction having to wait:|Average waiting time of those who waited:|\n|-------------------------|------------------------------|-------------------------------|-------------------------------|-------------------------------|-------------------------------|\n| Media ($\\bar{X}$)|4.82938|0.36154|1.31125|0.37625|3.43757|\n| Desviación estándar (S)|0.50687|0.04349|0.42529|0.08026|0.61625|\n| Valor crítico ($t_{n-1,1-\\frac{\\alpha}2}$)|$t_{7,0.995} =3.49948$|$t_{7,0.995}=3.49948$|$t_{7,0.995}=3.49948$|$t_{7,0.995}=3.49948$|$t_{7,0.995}=3.49948$|\n| $h$|0.62713|0.05381|0.52619|0.09930|0.76245|\n| Intervalo de confianza =  ($\\bar{X}-h , \\bar{X} + h$) |(4.20225, 5.45650)|(0.30773, 0.41535)|(0.78506, 1.83744)|(0.27695, 0.47555)|(2.67512, 4.20002)|\n"
          },
          "metadata": {}
        }
      ]
    }
  ]
}