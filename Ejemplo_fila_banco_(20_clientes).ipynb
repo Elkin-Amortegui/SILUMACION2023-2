{
  "nbformat": 4,
  "nbformat_minor": 0,
  "metadata": {
    "colab": {
      "provenance": [],
      "include_colab_link": true
    },
    "kernelspec": {
      "name": "python3",
      "display_name": "Python 3"
    },
    "language_info": {
      "name": "python"
    }
  },
  "cells": [
    {
      "cell_type": "markdown",
      "metadata": {
        "id": "view-in-github",
        "colab_type": "text"
      },
      "source": [
        "<a href=\"https://colab.research.google.com/github/Elkin-Amortegui/SILUMACION2023-2/blob/main/Ejemplo_fila_banco_(20_clientes).ipynb\" target=\"_parent\"><img src=\"https://colab.research.google.com/assets/colab-badge.svg\" alt=\"Open In Colab\"/></a>"
      ]
    },
    {
      "cell_type": "markdown",
      "metadata": {
        "id": "2UCFnlVTpIEJ"
      },
      "source": [
        "# Confidence intervals"
      ]
    },
    {
      "cell_type": "code",
      "metadata": {
        "id": "R-NCLZBhprux"
      },
      "source": [
        "import numpy as np\n",
        "from scipy import stats\n",
        "from IPython.display import display, Markdown\n",
        "import numpy as np\n",
        "from scipy import stats\n",
        "from IPython.display import display, Markdown"
      ],
      "execution_count": 41,
      "outputs": []
    },
    {
      "cell_type": "code",
      "source": [
        "M = [3.75, 5.65, 4.45, 5.05, 5.05, 4.45, 5.5, 3.8, 4.6, 4.45]\n",
        "M1 = [0.330097087378641, 0.346774193548387, 0.357142857142857, 0.292452830188679, 0.366666666666667, 0.324074074074074, 0.233644859813084, 0.339622641509434, 0.4375, 0.326923076923077]\n",
        "M2 = [0.3, 1.6, 1.3, 1.3, 1.25, 0.8, 1.4, 0.3, 1, 0.95]\n",
        "M3 = [0.25, 0.4, 0.45, 0.4, 0.35, 0.35, 0.45, 0.15, 0.3, 0.35]\n",
        "M4 = [1.2, 4, 2.88888888888889, 3.25, 3.57142857142857, 2.28571428571429, 3.11111111111111, 2, 3.33333333333333, 2.71428571428571]\n",
        "\n",
        "reps = len(M)\n",
        "\n",
        "print(\"Rep.\\tAverage time in system:\\t\\tPercent idle time:\\tAverage waiting time per customer:\\tFraction having to wait:\\tAverage waiting time of those who waited:\")\n",
        "for i in range(0, len(M)):\n",
        "    print(\"{}\\t{:.5f}\\t\\t\\t\\t{:.5f}\\t\\t\\t{:.5f}\\t\\t\\t\\t\\t{:.5f}\\t\\t\\t\\t{:.5f}\".format(i+1, M[i], M1[i], M2[i], M3[i], M4[i]))\n"
      ],
      "metadata": {
        "colab": {
          "base_uri": "https://localhost:8080/"
        },
        "id": "7Av268BhRJC-",
        "outputId": "86cab09a-324b-4102-dc89-20f65efb5b9f"
      },
      "execution_count": 42,
      "outputs": [
        {
          "output_type": "stream",
          "name": "stdout",
          "text": [
            "Rep.\tAverage time in system:\t\tPercent idle time:\tAverage waiting time per customer:\tFraction having to wait:\tAverage waiting time of those who waited:\n",
            "1\t3.75000\t\t\t\t0.33010\t\t\t0.30000\t\t\t\t\t0.25000\t\t\t\t1.20000\n",
            "2\t5.65000\t\t\t\t0.34677\t\t\t1.60000\t\t\t\t\t0.40000\t\t\t\t4.00000\n",
            "3\t4.45000\t\t\t\t0.35714\t\t\t1.30000\t\t\t\t\t0.45000\t\t\t\t2.88889\n",
            "4\t5.05000\t\t\t\t0.29245\t\t\t1.30000\t\t\t\t\t0.40000\t\t\t\t3.25000\n",
            "5\t5.05000\t\t\t\t0.36667\t\t\t1.25000\t\t\t\t\t0.35000\t\t\t\t3.57143\n",
            "6\t4.45000\t\t\t\t0.32407\t\t\t0.80000\t\t\t\t\t0.35000\t\t\t\t2.28571\n",
            "7\t5.50000\t\t\t\t0.23364\t\t\t1.40000\t\t\t\t\t0.45000\t\t\t\t3.11111\n",
            "8\t3.80000\t\t\t\t0.33962\t\t\t0.30000\t\t\t\t\t0.15000\t\t\t\t2.00000\n",
            "9\t4.60000\t\t\t\t0.43750\t\t\t1.00000\t\t\t\t\t0.30000\t\t\t\t3.33333\n",
            "10\t4.45000\t\t\t\t0.32692\t\t\t0.95000\t\t\t\t\t0.35000\t\t\t\t2.71429\n"
          ]
        }
      ]
    },
    {
      "cell_type": "code",
      "source": [
        "def calculos(lista):\n",
        "    reps = len(lista)\n",
        "    alpha = 0.05\n",
        "    confidence = (1 - alpha) * 100\n",
        "    mean = np.mean(lista)\n",
        "    var = np.var(lista, ddof=1)\n",
        "    desv = np.sqrt(var)\n",
        "    tval = stats.t.ppf(1 - (alpha / 2), reps - 1)\n",
        "    hval = tval * (desv / np.sqrt(reps))\n",
        "    respuesta = [reps, alpha, confidence, mean, desv, tval, hval, mean - hval, mean + hval]\n",
        "    return respuesta\n",
        "\n",
        "# Crear una tabla en formato Markdown\n",
        "resultado_M = calculos(M)\n",
        "resultado_M1 = calculos(M1)\n",
        "resultado_M2 = calculos(M2)\n",
        "resultado_M3 = calculos(M3)\n",
        "resultado_M4 = calculos(M4)\n",
        "\n",
        "# Redefinir la tabla con el formato deseado\n",
        "tabla_markdown = f\"\"\"\n",
        "| Nivel de confianza = {resultado_M[2]:.5f}%|Average time in system:|Percent idle time:|Average waiting time per customer:|Fraction having to wait:|Average waiting time of those who waited:|\n",
        "|-------------------------|------------------------------|-------------------------------|-------------------------------|-------------------------------|-------------------------------|\n",
        "| Media ($\\\\bar{{X}}$)|{resultado_M[3]:.5f}|{resultado_M1[3]:.5f}|{resultado_M2[3]:.5f}|{resultado_M3[3]:.5f}|{resultado_M4[3]:.5f}|\n",
        "| Desviación estándar (S)|{resultado_M[4]:.5f}|{resultado_M1[4]:.5f}|{resultado_M2[4]:.5f}|{resultado_M3[4]:.5f}|{resultado_M4[4]:.5f}|\n",
        "| Valor crítico ($t_{{n-1,1-\\\\frac{{\\\\alpha}}{2}}}$)|$t_{{{resultado_M[0]-1},{1-resultado_M[1]/2}}} ={resultado_M[5]:.5f}$|$t_{{{resultado_M1[0]-1},{1-resultado_M1[1]/2}}}={resultado_M1[5]:.5f}$|$t_{{{resultado_M2[0]-1},{1-resultado_M2[1]/2}}}={resultado_M2[5]:.5f}$|$t_{{{resultado_M3[0]-1},{1-resultado_M3[1]/2}}}={resultado_M3[5]:.5f}$|$t_{{{resultado_M4[0]-1},{1-resultado_M4[1]/2}}}={resultado_M4[5]:.5f}$|\n",
        "| $h$|{resultado_M[6]:.5f}|{resultado_M1[6]:.5f}|{resultado_M2[6]:.5f}|{resultado_M3[6]:.5f}|{resultado_M4[6]:.5f}|\n",
        "| Intervalo de confianza =  ($\\\\bar{{X}}-h , \\\\bar{{X}} + h$) |({resultado_M[7]:.5f}, {resultado_M[8]:.5f})|({resultado_M1[7]:.5f}, {resultado_M1[8]:.5f})|({resultado_M2[7]:.5f}, {resultado_M2[8]:.5f})|({resultado_M3[7]:.5f}, {resultado_M3[8]:.5f})|({resultado_M4[7]:.5f}, {resultado_M4[8]:.5f})|\n",
        "\"\"\"\n",
        "\n",
        "# Mostrar la tabla Markdown en el cuaderno\n",
        "display(Markdown(tabla_markdown))"
      ],
      "metadata": {
        "colab": {
          "base_uri": "https://localhost:8080/",
          "height": 279
        },
        "id": "OzwpO9JsR3t_",
        "outputId": "3060011a-2c5d-4fc3-ba48-ef322cd341c6"
      },
      "execution_count": 43,
      "outputs": [
        {
          "output_type": "display_data",
          "data": {
            "text/plain": [
              "<IPython.core.display.Markdown object>"
            ],
            "text/markdown": "\n| Nivel de confianza = 95.00000%|Average time in system:|Percent idle time:|Average waiting time per customer:|Fraction having to wait:|Average waiting time of those who waited:|\n|-------------------------|------------------------------|-------------------------------|-------------------------------|-------------------------------|-------------------------------|\n| Media ($\\bar{X}$)|4.67500|0.33549|1.02000|0.34500|2.83548|\n| Desviación estándar (S)|0.64042|0.05212|0.44485|0.09265|0.82233|\n| Valor crítico ($t_{n-1,1-\\frac{\\alpha}2}$)|$t_{9,0.975} =2.26216$|$t_{9,0.975}=2.26216$|$t_{9,0.975}=2.26216$|$t_{9,0.975}=2.26216$|$t_{9,0.975}=2.26216$|\n| $h$|0.45813|0.03728|0.31822|0.06628|0.58826|\n| Intervalo de confianza =  ($\\bar{X}-h , \\bar{X} + h$) |(4.21687, 5.13313)|(0.29821, 0.37277)|(0.70178, 1.33822)|(0.27872, 0.41128)|(2.24722, 3.42373)|\n"
          },
          "metadata": {}
        }
      ]
    },
    {
      "cell_type": "code",
      "source": [
        "def calculos(lista):\n",
        "    reps = len(lista)\n",
        "    alpha = 0.01\n",
        "    confidence = (1 - alpha) * 100\n",
        "    mean = np.mean(lista)\n",
        "    var = np.var(lista, ddof=1)\n",
        "    desv = np.sqrt(var)\n",
        "    tval = stats.t.ppf(1 - (alpha / 2), reps - 1)\n",
        "    hval = tval * (desv / np.sqrt(reps))\n",
        "    respuesta = [reps, alpha, confidence, mean, desv, tval, hval, mean - hval, mean + hval]\n",
        "    return respuesta\n",
        "\n",
        "# Crear una tabla en formato Markdown\n",
        "resultado_M = calculos(M)\n",
        "resultado_M1 = calculos(M1)\n",
        "resultado_M2 = calculos(M2)\n",
        "resultado_M3 = calculos(M3)\n",
        "resultado_M4 = calculos(M4)\n",
        "\n",
        "# Redefinir la tabla con el formato deseado\n",
        "tabla_markdown = f\"\"\"\n",
        "| Nivel de confianza = {resultado_M[2]:.5f}%|Average time in system:|Percent idle time:|Average waiting time per customer:|Fraction having to wait:|Average waiting time of those who waited:|\n",
        "|-------------------------|------------------------------|-------------------------------|-------------------------------|-------------------------------|-------------------------------|\n",
        "| Media ($\\\\bar{{X}}$)|{resultado_M[3]:.5f}|{resultado_M1[3]:.5f}|{resultado_M2[3]:.5f}|{resultado_M3[3]:.5f}|{resultado_M4[3]:.5f}|\n",
        "| Desviación estándar (S)|{resultado_M[4]:.5f}|{resultado_M1[4]:.5f}|{resultado_M2[4]:.5f}|{resultado_M3[4]:.5f}|{resultado_M4[4]:.5f}|\n",
        "| Valor crítico ($t_{{n-1,1-\\\\frac{{\\\\alpha}}{2}}}$)|$t_{{{resultado_M[0]-1},{1-resultado_M[1]/2}}} ={resultado_M[5]:.5f}$|$t_{{{resultado_M1[0]-1},{1-resultado_M1[1]/2}}}={resultado_M1[5]:.5f}$|$t_{{{resultado_M2[0]-1},{1-resultado_M2[1]/2}}}={resultado_M2[5]:.5f}$|$t_{{{resultado_M3[0]-1},{1-resultado_M3[1]/2}}}={resultado_M3[5]:.5f}$|$t_{{{resultado_M4[0]-1},{1-resultado_M4[1]/2}}}={resultado_M4[5]:.5f}$|\n",
        "| $h$|{resultado_M[6]:.5f}|{resultado_M1[6]:.5f}|{resultado_M2[6]:.5f}|{resultado_M3[6]:.5f}|{resultado_M4[6]:.5f}|\n",
        "| Intervalo de confianza =  ($\\\\bar{{X}}-h , \\\\bar{{X}} + h$) |({resultado_M[7]:.5f}, {resultado_M[8]:.5f})|({resultado_M1[7]:.5f}, {resultado_M1[8]:.5f})|({resultado_M2[7]:.5f}, {resultado_M2[8]:.5f})|({resultado_M3[7]:.5f}, {resultado_M3[8]:.5f})|({resultado_M4[7]:.5f}, {resultado_M4[8]:.5f})|\n",
        "\"\"\"\n",
        "\n",
        "# Mostrar la tabla Markdown en el cuaderno\n",
        "display(Markdown(tabla_markdown))"
      ],
      "metadata": {
        "colab": {
          "base_uri": "https://localhost:8080/",
          "height": 279
        },
        "id": "XVlxRTruSiaw",
        "outputId": "e572d374-768d-47ef-fdca-6b075594e3b8"
      },
      "execution_count": 44,
      "outputs": [
        {
          "output_type": "display_data",
          "data": {
            "text/plain": [
              "<IPython.core.display.Markdown object>"
            ],
            "text/markdown": "\n| Nivel de confianza = 99.00000%|Average time in system:|Percent idle time:|Average waiting time per customer:|Fraction having to wait:|Average waiting time of those who waited:|\n|-------------------------|------------------------------|-------------------------------|-------------------------------|-------------------------------|-------------------------------|\n| Media ($\\bar{X}$)|4.67500|0.33549|1.02000|0.34500|2.83548|\n| Desviación estándar (S)|0.64042|0.05212|0.44485|0.09265|0.82233|\n| Valor crítico ($t_{n-1,1-\\frac{\\alpha}2}$)|$t_{9,0.995} =3.24984$|$t_{9,0.995}=3.24984$|$t_{9,0.995}=3.24984$|$t_{9,0.995}=3.24984$|$t_{9,0.995}=3.24984$|\n| $h$|0.65815|0.05356|0.45716|0.09521|0.84510|\n| Intervalo de confianza =  ($\\bar{X}-h , \\bar{X} + h$) |(4.01685, 5.33315)|(0.28193, 0.38905)|(0.56284, 1.47716)|(0.24979, 0.44021)|(1.99038, 3.68057)|\n"
          },
          "metadata": {}
        }
      ]
    }
  ]
}